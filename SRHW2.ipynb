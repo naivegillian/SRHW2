{
 "cells": [
  {
   "cell_type": "code",
   "execution_count": 108,
   "metadata": {},
   "outputs": [
    {
     "data": {
      "text/plain": [
       "'\\nimport zipfile\\nwith zipfile.ZipFile(\"hw1__data.zip\",\"r\") as zip_ref:\\n    zip_ref.extractall(\"nwhw1_data\")\\n'"
      ]
     },
     "execution_count": 108,
     "metadata": {},
     "output_type": "execute_result"
    }
   ],
   "source": [
    "'''\n",
    "import zipfile\n",
    "with zipfile.ZipFile(\"hw1__data.zip\",\"r\") as zip_ref:\n",
    "    zip_ref.extractall(\"nwhw1_data\")\n",
    "'''    "
   ]
  },
  {
   "cell_type": "code",
   "execution_count": 109,
   "metadata": {},
   "outputs": [],
   "source": [
    "import os\n",
    "raw_data_base = \"/home/p88101029/nwhw2_data/dataset1/\"\n",
    "os.makedirs(raw_data_base, exist_ok=True)"
   ]
  },
  {
   "cell_type": "code",
   "execution_count": 110,
   "metadata": {},
   "outputs": [],
   "source": [
    "listoffolder=os.listdir(raw_data_base)"
   ]
  },
  {
   "cell_type": "code",
   "execution_count": 111,
   "metadata": {},
   "outputs": [],
   "source": [
    "import csv\n",
    "import numpy as np\n",
    "import torch\n",
    "\n",
    "# 開啟 CSV 檔案\n",
    "with open(raw_data_base+'content.csv') as csvfile:\n",
    "    attri=[]\n",
    "  # 讀取 CSV 檔案內容\n",
    "    rows = csv.reader(csvfile)\n",
    "\n",
    "  # 以迴圈輸出每一列\n",
    "    for row in rows:\n",
    "        attri.append(list(map(int,row[0].split())))\n",
    "\n",
    "attri = np.array(attri)\n",
    "attri = attri[np.argsort(attri[:,0])][:,1:]\n",
    "attri = torch.tensor(attri).to(dtype=torch.float)"
   ]
  },
  {
   "cell_type": "code",
   "execution_count": 112,
   "metadata": {},
   "outputs": [],
   "source": [
    "with open(raw_data_base+'train.csv') as csvfile:\n",
    "    train=[]\n",
    "  # 讀取 CSV 檔案內容\n",
    "    rows = csv.reader(csvfile)\n",
    "    next(rows, None)\n",
    "  # 以迴圈輸出每一列\n",
    "    for row in rows:\n",
    "        train.append(row)\n",
    "        \n",
    "train = np.array(train)\n",
    "train = train[:,1:].astype(int)\n",
    "train = train[np.argsort(train[:,0])]\n",
    "trainpos = torch.tensor(train[train[:,2]==1][:,0:2].T)\n",
    "trainneg = torch.tensor(train[train[:,2]==0][:,0:2].T)\n",
    "trainans = torch.tensor(train[:,2].T)\n",
    "train = torch.tensor(train[:,0:2].T)\n",
    "\n",
    "with open(raw_data_base+'test.csv') as csvfile:\n",
    "    test=[]\n",
    "  # 讀取 CSV 檔案內容\n",
    "    rows = csv.reader(csvfile)\n",
    "    next(rows, None)\n",
    "  # 以迴圈輸出每一列\n",
    "    for row in rows:\n",
    "        test.append(row)\n",
    "        \n",
    "test = np.array(test)\n",
    "edgename = test[:,0]\n",
    "test = test[:,1:].astype(int)\n",
    "test = torch.tensor(test.T)"
   ]
  },
  {
   "cell_type": "code",
   "execution_count": 113,
   "metadata": {},
   "outputs": [],
   "source": [
    "import numpy as np\n",
    "import scipy.sparse as sp\n",
    "import torch\n",
    "import torch.nn\n",
    "from torch_geometric.data import Data"
   ]
  },
  {
   "cell_type": "code",
   "execution_count": 114,
   "metadata": {},
   "outputs": [],
   "source": [
    "fullset = Data(x=attri, edge_index=trainpos)"
   ]
  },
  {
   "cell_type": "code",
   "execution_count": 115,
   "metadata": {},
   "outputs": [
    {
     "data": {
      "text/plain": [
       "Data(x=[2708, 1433], edge_index=[2, 4324])"
      ]
     },
     "execution_count": 115,
     "metadata": {},
     "output_type": "execute_result"
    }
   ],
   "source": [
    "fullset"
   ]
  },
  {
   "cell_type": "code",
   "execution_count": 116,
   "metadata": {},
   "outputs": [
    {
     "data": {
      "text/plain": [
       "torch.Size([2, 8686])"
      ]
     },
     "execution_count": 116,
     "metadata": {},
     "output_type": "execute_result"
    }
   ],
   "source": [
    "train.shape"
   ]
  },
  {
   "cell_type": "code",
   "execution_count": 117,
   "metadata": {},
   "outputs": [],
   "source": [
    "trainposid = np.random.choice(trainpos.shape[1], trainpos.shape[1])\n",
    "trainnegid = np.random.choice(trainneg.shape[1], trainneg.shape[1])"
   ]
  },
  {
   "cell_type": "code",
   "execution_count": 118,
   "metadata": {},
   "outputs": [],
   "source": [
    "trainposedge = trainpos[:,trainposid[:int(trainpos.shape[1]*0.9)]]\n",
    "testposedge = trainpos[:,trainposid[int(trainpos.shape[1]*0.9):]]\n",
    "trainnegedge = trainneg[:,trainnegid[:int(trainneg.shape[1]*0.9)]]\n",
    "testnegedge = trainneg[:,trainnegid[int(trainneg.shape[1]*0.9):]]"
   ]
  },
  {
   "cell_type": "code",
   "execution_count": 119,
   "metadata": {},
   "outputs": [],
   "source": [
    "train_pos_g = Data(x=attri, edge_index=trainposedge)\n",
    "train_neg_g = Data(x=attri, edge_index=trainnegedge)\n",
    "test_pos_g = Data(x=attri, edge_index=testposedge)\n",
    "test_neg_g = Data(x=attri, edge_index=testnegedge)"
   ]
  },
  {
   "cell_type": "code",
   "execution_count": 120,
   "metadata": {},
   "outputs": [],
   "source": [
    "from torch_geometric.nn import SAGEConv\n",
    "from torch_geometric.nn import GATConv\n",
    "from torch.nn import Linear\n",
    "from torch_geometric.utils import degree\n",
    "\n",
    "class Net(torch.nn.Module):\n",
    "    def __init__(self, in_channels, hidden_channels, out_channels):\n",
    "        super().__init__()\n",
    "        self.conv1 = GATConv(in_channels, out_channels)\n",
    "        self.conv2a = GATConv(in_channels, hidden_channels)\n",
    "        self.conv2b = GATConv(hidden_channels, out_channels)\n",
    "        self.lin = Linear(out_channels*2,int(out_channels/2),bias=True)\n",
    "        self.lin2 = Linear(int(out_channels/2),1,bias=True)\n",
    "        \n",
    "    def encode(self, x, edge_index):\n",
    "        fl = self.conv1(x, edge_index)\n",
    "        sla = self.conv2a(x, edge_index).relu()\n",
    "        sl = self.conv2b(sla, edge_index)\n",
    "        return torch.cat([fl, sl], dim=1)\n",
    "\n",
    "    def decode(self, z, edge_index):\n",
    "        #matrix = (z[edge_index[0]] * z[edge_index[1]]) \n",
    "        matrix = (z[edge_index[0]] - z[edge_index[1]]).pow(2)\n",
    "        pred = self.lin(matrix).relu()\n",
    "        pred = self.lin2(pred)      \n",
    "        return pred\n"
   ]
  },
  {
   "cell_type": "code",
   "execution_count": 121,
   "metadata": {},
   "outputs": [],
   "source": [
    "from sklearn.metrics import roc_auc_score\n",
    "from sklearn.metrics import precision_score\n",
    "from torch_geometric.utils import to_undirected\n",
    "import copy\n",
    "\n",
    "def train_link_predictor(\n",
    "    model, train_pos_g, train_neg_g, test_pos_g, test_neg_g, optimizer, criterion, n_epochs=1000\n",
    "):\n",
    "    train_pos_g.edge_index = to_undirected(train_pos_g.edge_index)\n",
    "    train_neg_g.edge_index = to_undirected(train_neg_g.edge_index)\n",
    "    test_pos_g.edge_index = to_undirected(test_pos_g.edge_index)\n",
    "    test_neg_g.edge_index = to_undirected(test_neg_g.edge_index)\n",
    "    trainposedges = train_pos_g.edge_index.shape[1]\n",
    "    trainnegedges = train_neg_g.edge_index.shape[1]\n",
    "    testposedges = test_pos_g.edge_index.shape[1]\n",
    "    testnegedges = test_neg_g.edge_index.shape[1]\n",
    "    trainedgesindex = torch.cat([train_pos_g.edge_index, train_neg_g.edge_index],dim=-1)\n",
    "    trainedge_label = torch.cat([torch.ones(trainposedges),torch.zeros(trainnegedges)], dim=0)\n",
    "    testedgesindex = torch.cat([test_pos_g.edge_index, test_neg_g.edge_index],dim=-1)\n",
    "    testedge_label = torch.cat([torch.ones(testposedges),torch.zeros(testnegedges)], dim=0)\n",
    "    \n",
    "    best_score = 0\n",
    "    counter = 0\n",
    "    stop_loss = 0\n",
    "    for epoch in range(1, n_epochs + 1):\n",
    "\n",
    "        model.train()\n",
    "        optimizer.zero_grad()\n",
    "        z = model.encode(train_pos_g.x, train_pos_g.edge_index)\n",
    "        out = model.decode(z, trainedgesindex).view(-1)\n",
    "        loss = criterion(out, trainedge_label)\n",
    "        loss.backward()\n",
    "        optimizer.step()\n",
    "\n",
    "        if epoch % 5 == 0:\n",
    "            out = eval_link_predictor(model, train_pos_g, testedgesindex)\n",
    "            val_auc = roc_auc_score(testedge_label.cpu().numpy(), out.cpu().numpy())\n",
    "            val_pre = precision_score(testedge_label.cpu().numpy(), torch.round(out).cpu().numpy())\n",
    "            print(f\"Epoch: {epoch:03d}, Train Loss: {loss:.3f}, Val AUC: {val_auc:.3f}, Val PRE: {val_pre:.3f}\")\n",
    "            score = (val_auc*2 + val_pre)/3\n",
    "            if score > best_score:\n",
    "                counter = 0\n",
    "                best_score = score\n",
    "                stop_loss = loss\n",
    "                save_model = copy.deepcopy(model)\n",
    "            else:\n",
    "                counter +=1\n",
    "            if counter == 20:\n",
    "                break\n",
    "    return save_model, stop_loss\n",
    "\n",
    "\n",
    "@torch.no_grad()\n",
    "def eval_link_predictor(model, train_pos_g, testedgesindex):\n",
    "    model.eval()\n",
    "    z = model.encode(train_pos_g.x, train_pos_g.edge_index)\n",
    "    out = model.decode(z, testedgesindex).view(-1).sigmoid()\n",
    "    return out"
   ]
  },
  {
   "cell_type": "code",
   "execution_count": 122,
   "metadata": {},
   "outputs": [
    {
     "name": "stderr",
     "output_type": "stream",
     "text": [
      "/home/p88101029/.local/lib/python3.6/site-packages/sklearn/metrics/_classification.py:1248: UndefinedMetricWarning: Precision is ill-defined and being set to 0.0 due to no predicted samples. Use `zero_division` parameter to control this behavior.\n",
      "  _warn_prf(average, modifier, msg_start, len(result))\n"
     ]
    },
    {
     "name": "stdout",
     "output_type": "stream",
     "text": [
      "Epoch: 005, Train Loss: 0.697, Val AUC: 0.508, Val PRE: 0.000\n"
     ]
    },
    {
     "name": "stderr",
     "output_type": "stream",
     "text": [
      "/home/p88101029/.local/lib/python3.6/site-packages/sklearn/metrics/_classification.py:1248: UndefinedMetricWarning: Precision is ill-defined and being set to 0.0 due to no predicted samples. Use `zero_division` parameter to control this behavior.\n",
      "  _warn_prf(average, modifier, msg_start, len(result))\n"
     ]
    },
    {
     "name": "stdout",
     "output_type": "stream",
     "text": [
      "Epoch: 010, Train Loss: 0.696, Val AUC: 0.637, Val PRE: 0.000\n"
     ]
    },
    {
     "name": "stderr",
     "output_type": "stream",
     "text": [
      "/home/p88101029/.local/lib/python3.6/site-packages/sklearn/metrics/_classification.py:1248: UndefinedMetricWarning: Precision is ill-defined and being set to 0.0 due to no predicted samples. Use `zero_division` parameter to control this behavior.\n",
      "  _warn_prf(average, modifier, msg_start, len(result))\n"
     ]
    },
    {
     "name": "stdout",
     "output_type": "stream",
     "text": [
      "Epoch: 015, Train Loss: 0.695, Val AUC: 0.747, Val PRE: 0.000\n"
     ]
    },
    {
     "name": "stderr",
     "output_type": "stream",
     "text": [
      "/home/p88101029/.local/lib/python3.6/site-packages/sklearn/metrics/_classification.py:1248: UndefinedMetricWarning: Precision is ill-defined and being set to 0.0 due to no predicted samples. Use `zero_division` parameter to control this behavior.\n",
      "  _warn_prf(average, modifier, msg_start, len(result))\n"
     ]
    },
    {
     "name": "stdout",
     "output_type": "stream",
     "text": [
      "Epoch: 020, Train Loss: 0.694, Val AUC: 0.817, Val PRE: 0.000\n"
     ]
    },
    {
     "name": "stderr",
     "output_type": "stream",
     "text": [
      "/home/p88101029/.local/lib/python3.6/site-packages/sklearn/metrics/_classification.py:1248: UndefinedMetricWarning: Precision is ill-defined and being set to 0.0 due to no predicted samples. Use `zero_division` parameter to control this behavior.\n",
      "  _warn_prf(average, modifier, msg_start, len(result))\n"
     ]
    },
    {
     "name": "stdout",
     "output_type": "stream",
     "text": [
      "Epoch: 025, Train Loss: 0.694, Val AUC: 0.858, Val PRE: 0.000\n"
     ]
    },
    {
     "name": "stderr",
     "output_type": "stream",
     "text": [
      "/home/p88101029/.local/lib/python3.6/site-packages/sklearn/metrics/_classification.py:1248: UndefinedMetricWarning: Precision is ill-defined and being set to 0.0 due to no predicted samples. Use `zero_division` parameter to control this behavior.\n",
      "  _warn_prf(average, modifier, msg_start, len(result))\n"
     ]
    },
    {
     "name": "stdout",
     "output_type": "stream",
     "text": [
      "Epoch: 030, Train Loss: 0.693, Val AUC: 0.885, Val PRE: 0.000\n"
     ]
    },
    {
     "name": "stderr",
     "output_type": "stream",
     "text": [
      "/home/p88101029/.local/lib/python3.6/site-packages/sklearn/metrics/_classification.py:1248: UndefinedMetricWarning: Precision is ill-defined and being set to 0.0 due to no predicted samples. Use `zero_division` parameter to control this behavior.\n",
      "  _warn_prf(average, modifier, msg_start, len(result))\n"
     ]
    },
    {
     "name": "stdout",
     "output_type": "stream",
     "text": [
      "Epoch: 035, Train Loss: 0.692, Val AUC: 0.900, Val PRE: 0.000\n"
     ]
    },
    {
     "name": "stderr",
     "output_type": "stream",
     "text": [
      "/home/p88101029/.local/lib/python3.6/site-packages/sklearn/metrics/_classification.py:1248: UndefinedMetricWarning: Precision is ill-defined and being set to 0.0 due to no predicted samples. Use `zero_division` parameter to control this behavior.\n",
      "  _warn_prf(average, modifier, msg_start, len(result))\n"
     ]
    },
    {
     "name": "stdout",
     "output_type": "stream",
     "text": [
      "Epoch: 040, Train Loss: 0.691, Val AUC: 0.907, Val PRE: 0.000\n"
     ]
    },
    {
     "name": "stderr",
     "output_type": "stream",
     "text": [
      "/home/p88101029/.local/lib/python3.6/site-packages/sklearn/metrics/_classification.py:1248: UndefinedMetricWarning: Precision is ill-defined and being set to 0.0 due to no predicted samples. Use `zero_division` parameter to control this behavior.\n",
      "  _warn_prf(average, modifier, msg_start, len(result))\n"
     ]
    },
    {
     "name": "stdout",
     "output_type": "stream",
     "text": [
      "Epoch: 045, Train Loss: 0.689, Val AUC: 0.913, Val PRE: 0.000\n"
     ]
    },
    {
     "name": "stderr",
     "output_type": "stream",
     "text": [
      "/home/p88101029/.local/lib/python3.6/site-packages/sklearn/metrics/_classification.py:1248: UndefinedMetricWarning: Precision is ill-defined and being set to 0.0 due to no predicted samples. Use `zero_division` parameter to control this behavior.\n",
      "  _warn_prf(average, modifier, msg_start, len(result))\n"
     ]
    },
    {
     "name": "stdout",
     "output_type": "stream",
     "text": [
      "Epoch: 050, Train Loss: 0.688, Val AUC: 0.917, Val PRE: 0.000\n"
     ]
    },
    {
     "name": "stderr",
     "output_type": "stream",
     "text": [
      "/home/p88101029/.local/lib/python3.6/site-packages/sklearn/metrics/_classification.py:1248: UndefinedMetricWarning: Precision is ill-defined and being set to 0.0 due to no predicted samples. Use `zero_division` parameter to control this behavior.\n",
      "  _warn_prf(average, modifier, msg_start, len(result))\n"
     ]
    },
    {
     "name": "stdout",
     "output_type": "stream",
     "text": [
      "Epoch: 055, Train Loss: 0.686, Val AUC: 0.920, Val PRE: 0.000\n"
     ]
    },
    {
     "name": "stderr",
     "output_type": "stream",
     "text": [
      "/home/p88101029/.local/lib/python3.6/site-packages/sklearn/metrics/_classification.py:1248: UndefinedMetricWarning: Precision is ill-defined and being set to 0.0 due to no predicted samples. Use `zero_division` parameter to control this behavior.\n",
      "  _warn_prf(average, modifier, msg_start, len(result))\n"
     ]
    },
    {
     "name": "stdout",
     "output_type": "stream",
     "text": [
      "Epoch: 060, Train Loss: 0.684, Val AUC: 0.923, Val PRE: 0.000\n"
     ]
    },
    {
     "name": "stderr",
     "output_type": "stream",
     "text": [
      "/home/p88101029/.local/lib/python3.6/site-packages/sklearn/metrics/_classification.py:1248: UndefinedMetricWarning: Precision is ill-defined and being set to 0.0 due to no predicted samples. Use `zero_division` parameter to control this behavior.\n",
      "  _warn_prf(average, modifier, msg_start, len(result))\n"
     ]
    },
    {
     "name": "stdout",
     "output_type": "stream",
     "text": [
      "Epoch: 065, Train Loss: 0.682, Val AUC: 0.925, Val PRE: 0.000\n"
     ]
    },
    {
     "name": "stderr",
     "output_type": "stream",
     "text": [
      "/home/p88101029/.local/lib/python3.6/site-packages/sklearn/metrics/_classification.py:1248: UndefinedMetricWarning: Precision is ill-defined and being set to 0.0 due to no predicted samples. Use `zero_division` parameter to control this behavior.\n",
      "  _warn_prf(average, modifier, msg_start, len(result))\n"
     ]
    },
    {
     "name": "stdout",
     "output_type": "stream",
     "text": [
      "Epoch: 070, Train Loss: 0.679, Val AUC: 0.928, Val PRE: 0.000\n"
     ]
    },
    {
     "name": "stderr",
     "output_type": "stream",
     "text": [
      "/home/p88101029/.local/lib/python3.6/site-packages/sklearn/metrics/_classification.py:1248: UndefinedMetricWarning: Precision is ill-defined and being set to 0.0 due to no predicted samples. Use `zero_division` parameter to control this behavior.\n",
      "  _warn_prf(average, modifier, msg_start, len(result))\n"
     ]
    },
    {
     "name": "stdout",
     "output_type": "stream",
     "text": [
      "Epoch: 075, Train Loss: 0.675, Val AUC: 0.930, Val PRE: 0.000\n"
     ]
    },
    {
     "name": "stderr",
     "output_type": "stream",
     "text": [
      "/home/p88101029/.local/lib/python3.6/site-packages/sklearn/metrics/_classification.py:1248: UndefinedMetricWarning: Precision is ill-defined and being set to 0.0 due to no predicted samples. Use `zero_division` parameter to control this behavior.\n",
      "  _warn_prf(average, modifier, msg_start, len(result))\n"
     ]
    },
    {
     "name": "stdout",
     "output_type": "stream",
     "text": [
      "Epoch: 080, Train Loss: 0.671, Val AUC: 0.933, Val PRE: 0.000\n"
     ]
    },
    {
     "name": "stderr",
     "output_type": "stream",
     "text": [
      "/home/p88101029/.local/lib/python3.6/site-packages/sklearn/metrics/_classification.py:1248: UndefinedMetricWarning: Precision is ill-defined and being set to 0.0 due to no predicted samples. Use `zero_division` parameter to control this behavior.\n",
      "  _warn_prf(average, modifier, msg_start, len(result))\n"
     ]
    },
    {
     "name": "stdout",
     "output_type": "stream",
     "text": [
      "Epoch: 085, Train Loss: 0.667, Val AUC: 0.935, Val PRE: 0.000\n"
     ]
    },
    {
     "name": "stderr",
     "output_type": "stream",
     "text": [
      "/home/p88101029/.local/lib/python3.6/site-packages/sklearn/metrics/_classification.py:1248: UndefinedMetricWarning: Precision is ill-defined and being set to 0.0 due to no predicted samples. Use `zero_division` parameter to control this behavior.\n",
      "  _warn_prf(average, modifier, msg_start, len(result))\n"
     ]
    },
    {
     "name": "stdout",
     "output_type": "stream",
     "text": [
      "Epoch: 090, Train Loss: 0.662, Val AUC: 0.937, Val PRE: 0.000\n"
     ]
    },
    {
     "name": "stderr",
     "output_type": "stream",
     "text": [
      "/home/p88101029/.local/lib/python3.6/site-packages/sklearn/metrics/_classification.py:1248: UndefinedMetricWarning: Precision is ill-defined and being set to 0.0 due to no predicted samples. Use `zero_division` parameter to control this behavior.\n",
      "  _warn_prf(average, modifier, msg_start, len(result))\n"
     ]
    },
    {
     "name": "stdout",
     "output_type": "stream",
     "text": [
      "Epoch: 095, Train Loss: 0.656, Val AUC: 0.939, Val PRE: 0.000\n"
     ]
    },
    {
     "name": "stderr",
     "output_type": "stream",
     "text": [
      "/home/p88101029/.local/lib/python3.6/site-packages/sklearn/metrics/_classification.py:1248: UndefinedMetricWarning: Precision is ill-defined and being set to 0.0 due to no predicted samples. Use `zero_division` parameter to control this behavior.\n",
      "  _warn_prf(average, modifier, msg_start, len(result))\n"
     ]
    },
    {
     "name": "stdout",
     "output_type": "stream",
     "text": [
      "Epoch: 100, Train Loss: 0.649, Val AUC: 0.941, Val PRE: 0.000\n"
     ]
    },
    {
     "name": "stderr",
     "output_type": "stream",
     "text": [
      "/home/p88101029/.local/lib/python3.6/site-packages/sklearn/metrics/_classification.py:1248: UndefinedMetricWarning: Precision is ill-defined and being set to 0.0 due to no predicted samples. Use `zero_division` parameter to control this behavior.\n",
      "  _warn_prf(average, modifier, msg_start, len(result))\n"
     ]
    },
    {
     "name": "stdout",
     "output_type": "stream",
     "text": [
      "Epoch: 105, Train Loss: 0.641, Val AUC: 0.942, Val PRE: 0.000\n"
     ]
    },
    {
     "name": "stderr",
     "output_type": "stream",
     "text": [
      "/home/p88101029/.local/lib/python3.6/site-packages/sklearn/metrics/_classification.py:1248: UndefinedMetricWarning: Precision is ill-defined and being set to 0.0 due to no predicted samples. Use `zero_division` parameter to control this behavior.\n",
      "  _warn_prf(average, modifier, msg_start, len(result))\n"
     ]
    },
    {
     "name": "stdout",
     "output_type": "stream",
     "text": [
      "Epoch: 110, Train Loss: 0.632, Val AUC: 0.944, Val PRE: 0.000\n"
     ]
    },
    {
     "name": "stderr",
     "output_type": "stream",
     "text": [
      "/home/p88101029/.local/lib/python3.6/site-packages/sklearn/metrics/_classification.py:1248: UndefinedMetricWarning: Precision is ill-defined and being set to 0.0 due to no predicted samples. Use `zero_division` parameter to control this behavior.\n",
      "  _warn_prf(average, modifier, msg_start, len(result))\n"
     ]
    },
    {
     "name": "stdout",
     "output_type": "stream",
     "text": [
      "Epoch: 115, Train Loss: 0.622, Val AUC: 0.946, Val PRE: 0.000\n"
     ]
    },
    {
     "name": "stderr",
     "output_type": "stream",
     "text": [
      "/home/p88101029/.local/lib/python3.6/site-packages/sklearn/metrics/_classification.py:1248: UndefinedMetricWarning: Precision is ill-defined and being set to 0.0 due to no predicted samples. Use `zero_division` parameter to control this behavior.\n",
      "  _warn_prf(average, modifier, msg_start, len(result))\n"
     ]
    },
    {
     "name": "stdout",
     "output_type": "stream",
     "text": [
      "Epoch: 120, Train Loss: 0.611, Val AUC: 0.947, Val PRE: 0.000\n"
     ]
    },
    {
     "name": "stderr",
     "output_type": "stream",
     "text": [
      "/home/p88101029/.local/lib/python3.6/site-packages/sklearn/metrics/_classification.py:1248: UndefinedMetricWarning: Precision is ill-defined and being set to 0.0 due to no predicted samples. Use `zero_division` parameter to control this behavior.\n",
      "  _warn_prf(average, modifier, msg_start, len(result))\n"
     ]
    },
    {
     "name": "stdout",
     "output_type": "stream",
     "text": [
      "Epoch: 125, Train Loss: 0.599, Val AUC: 0.948, Val PRE: 0.000\n"
     ]
    },
    {
     "name": "stderr",
     "output_type": "stream",
     "text": [
      "/home/p88101029/.local/lib/python3.6/site-packages/sklearn/metrics/_classification.py:1248: UndefinedMetricWarning: Precision is ill-defined and being set to 0.0 due to no predicted samples. Use `zero_division` parameter to control this behavior.\n",
      "  _warn_prf(average, modifier, msg_start, len(result))\n"
     ]
    },
    {
     "name": "stdout",
     "output_type": "stream",
     "text": [
      "Epoch: 130, Train Loss: 0.586, Val AUC: 0.949, Val PRE: 0.000\n"
     ]
    },
    {
     "name": "stderr",
     "output_type": "stream",
     "text": [
      "/home/p88101029/.local/lib/python3.6/site-packages/sklearn/metrics/_classification.py:1248: UndefinedMetricWarning: Precision is ill-defined and being set to 0.0 due to no predicted samples. Use `zero_division` parameter to control this behavior.\n",
      "  _warn_prf(average, modifier, msg_start, len(result))\n"
     ]
    },
    {
     "name": "stdout",
     "output_type": "stream",
     "text": [
      "Epoch: 135, Train Loss: 0.573, Val AUC: 0.950, Val PRE: 0.000\n"
     ]
    },
    {
     "name": "stderr",
     "output_type": "stream",
     "text": [
      "/home/p88101029/.local/lib/python3.6/site-packages/sklearn/metrics/_classification.py:1248: UndefinedMetricWarning: Precision is ill-defined and being set to 0.0 due to no predicted samples. Use `zero_division` parameter to control this behavior.\n",
      "  _warn_prf(average, modifier, msg_start, len(result))\n"
     ]
    },
    {
     "name": "stdout",
     "output_type": "stream",
     "text": [
      "Epoch: 140, Train Loss: 0.560, Val AUC: 0.951, Val PRE: 0.000\n"
     ]
    },
    {
     "name": "stderr",
     "output_type": "stream",
     "text": [
      "/home/p88101029/.local/lib/python3.6/site-packages/sklearn/metrics/_classification.py:1248: UndefinedMetricWarning: Precision is ill-defined and being set to 0.0 due to no predicted samples. Use `zero_division` parameter to control this behavior.\n",
      "  _warn_prf(average, modifier, msg_start, len(result))\n"
     ]
    },
    {
     "name": "stdout",
     "output_type": "stream",
     "text": [
      "Epoch: 145, Train Loss: 0.547, Val AUC: 0.952, Val PRE: 0.000\n"
     ]
    },
    {
     "name": "stderr",
     "output_type": "stream",
     "text": [
      "/home/p88101029/.local/lib/python3.6/site-packages/sklearn/metrics/_classification.py:1248: UndefinedMetricWarning: Precision is ill-defined and being set to 0.0 due to no predicted samples. Use `zero_division` parameter to control this behavior.\n",
      "  _warn_prf(average, modifier, msg_start, len(result))\n"
     ]
    },
    {
     "name": "stdout",
     "output_type": "stream",
     "text": [
      "Epoch: 150, Train Loss: 0.535, Val AUC: 0.953, Val PRE: 0.000\n"
     ]
    },
    {
     "name": "stderr",
     "output_type": "stream",
     "text": [
      "/home/p88101029/.local/lib/python3.6/site-packages/sklearn/metrics/_classification.py:1248: UndefinedMetricWarning: Precision is ill-defined and being set to 0.0 due to no predicted samples. Use `zero_division` parameter to control this behavior.\n",
      "  _warn_prf(average, modifier, msg_start, len(result))\n"
     ]
    },
    {
     "name": "stdout",
     "output_type": "stream",
     "text": [
      "Epoch: 155, Train Loss: 0.523, Val AUC: 0.953, Val PRE: 0.000\n"
     ]
    },
    {
     "name": "stderr",
     "output_type": "stream",
     "text": [
      "/home/p88101029/.local/lib/python3.6/site-packages/sklearn/metrics/_classification.py:1248: UndefinedMetricWarning: Precision is ill-defined and being set to 0.0 due to no predicted samples. Use `zero_division` parameter to control this behavior.\n",
      "  _warn_prf(average, modifier, msg_start, len(result))\n"
     ]
    },
    {
     "name": "stdout",
     "output_type": "stream",
     "text": [
      "Epoch: 160, Train Loss: 0.512, Val AUC: 0.954, Val PRE: 0.000\n"
     ]
    },
    {
     "name": "stderr",
     "output_type": "stream",
     "text": [
      "/home/p88101029/.local/lib/python3.6/site-packages/sklearn/metrics/_classification.py:1248: UndefinedMetricWarning: Precision is ill-defined and being set to 0.0 due to no predicted samples. Use `zero_division` parameter to control this behavior.\n",
      "  _warn_prf(average, modifier, msg_start, len(result))\n"
     ]
    },
    {
     "name": "stdout",
     "output_type": "stream",
     "text": [
      "Epoch: 165, Train Loss: 0.502, Val AUC: 0.955, Val PRE: 0.000\n"
     ]
    },
    {
     "name": "stderr",
     "output_type": "stream",
     "text": [
      "/home/p88101029/.local/lib/python3.6/site-packages/sklearn/metrics/_classification.py:1248: UndefinedMetricWarning: Precision is ill-defined and being set to 0.0 due to no predicted samples. Use `zero_division` parameter to control this behavior.\n",
      "  _warn_prf(average, modifier, msg_start, len(result))\n"
     ]
    },
    {
     "name": "stdout",
     "output_type": "stream",
     "text": [
      "Epoch: 170, Train Loss: 0.494, Val AUC: 0.955, Val PRE: 0.000\n"
     ]
    },
    {
     "name": "stderr",
     "output_type": "stream",
     "text": [
      "/home/p88101029/.local/lib/python3.6/site-packages/sklearn/metrics/_classification.py:1248: UndefinedMetricWarning: Precision is ill-defined and being set to 0.0 due to no predicted samples. Use `zero_division` parameter to control this behavior.\n",
      "  _warn_prf(average, modifier, msg_start, len(result))\n"
     ]
    },
    {
     "name": "stdout",
     "output_type": "stream",
     "text": [
      "Epoch: 175, Train Loss: 0.486, Val AUC: 0.955, Val PRE: 0.000\n"
     ]
    },
    {
     "name": "stderr",
     "output_type": "stream",
     "text": [
      "/home/p88101029/.local/lib/python3.6/site-packages/sklearn/metrics/_classification.py:1248: UndefinedMetricWarning: Precision is ill-defined and being set to 0.0 due to no predicted samples. Use `zero_division` parameter to control this behavior.\n",
      "  _warn_prf(average, modifier, msg_start, len(result))\n"
     ]
    },
    {
     "name": "stdout",
     "output_type": "stream",
     "text": [
      "Epoch: 180, Train Loss: 0.479, Val AUC: 0.956, Val PRE: 0.000\n"
     ]
    },
    {
     "name": "stderr",
     "output_type": "stream",
     "text": [
      "/home/p88101029/.local/lib/python3.6/site-packages/sklearn/metrics/_classification.py:1248: UndefinedMetricWarning: Precision is ill-defined and being set to 0.0 due to no predicted samples. Use `zero_division` parameter to control this behavior.\n",
      "  _warn_prf(average, modifier, msg_start, len(result))\n"
     ]
    },
    {
     "name": "stdout",
     "output_type": "stream",
     "text": [
      "Epoch: 185, Train Loss: 0.472, Val AUC: 0.956, Val PRE: 0.000\n"
     ]
    },
    {
     "name": "stderr",
     "output_type": "stream",
     "text": [
      "/home/p88101029/.local/lib/python3.6/site-packages/sklearn/metrics/_classification.py:1248: UndefinedMetricWarning: Precision is ill-defined and being set to 0.0 due to no predicted samples. Use `zero_division` parameter to control this behavior.\n",
      "  _warn_prf(average, modifier, msg_start, len(result))\n"
     ]
    },
    {
     "name": "stdout",
     "output_type": "stream",
     "text": [
      "Epoch: 190, Train Loss: 0.467, Val AUC: 0.956, Val PRE: 0.000\n"
     ]
    },
    {
     "name": "stderr",
     "output_type": "stream",
     "text": [
      "/home/p88101029/.local/lib/python3.6/site-packages/sklearn/metrics/_classification.py:1248: UndefinedMetricWarning: Precision is ill-defined and being set to 0.0 due to no predicted samples. Use `zero_division` parameter to control this behavior.\n",
      "  _warn_prf(average, modifier, msg_start, len(result))\n"
     ]
    },
    {
     "name": "stdout",
     "output_type": "stream",
     "text": [
      "Epoch: 195, Train Loss: 0.462, Val AUC: 0.957, Val PRE: 0.000\n"
     ]
    },
    {
     "name": "stderr",
     "output_type": "stream",
     "text": [
      "/home/p88101029/.local/lib/python3.6/site-packages/sklearn/metrics/_classification.py:1248: UndefinedMetricWarning: Precision is ill-defined and being set to 0.0 due to no predicted samples. Use `zero_division` parameter to control this behavior.\n",
      "  _warn_prf(average, modifier, msg_start, len(result))\n"
     ]
    },
    {
     "name": "stdout",
     "output_type": "stream",
     "text": [
      "Epoch: 200, Train Loss: 0.457, Val AUC: 0.957, Val PRE: 0.000\n"
     ]
    },
    {
     "name": "stderr",
     "output_type": "stream",
     "text": [
      "/home/p88101029/.local/lib/python3.6/site-packages/sklearn/metrics/_classification.py:1248: UndefinedMetricWarning: Precision is ill-defined and being set to 0.0 due to no predicted samples. Use `zero_division` parameter to control this behavior.\n",
      "  _warn_prf(average, modifier, msg_start, len(result))\n"
     ]
    },
    {
     "name": "stdout",
     "output_type": "stream",
     "text": [
      "Epoch: 205, Train Loss: 0.453, Val AUC: 0.958, Val PRE: 0.000\n"
     ]
    },
    {
     "name": "stderr",
     "output_type": "stream",
     "text": [
      "/home/p88101029/.local/lib/python3.6/site-packages/sklearn/metrics/_classification.py:1248: UndefinedMetricWarning: Precision is ill-defined and being set to 0.0 due to no predicted samples. Use `zero_division` parameter to control this behavior.\n",
      "  _warn_prf(average, modifier, msg_start, len(result))\n"
     ]
    },
    {
     "name": "stdout",
     "output_type": "stream",
     "text": [
      "Epoch: 210, Train Loss: 0.449, Val AUC: 0.958, Val PRE: 0.000\n"
     ]
    },
    {
     "name": "stderr",
     "output_type": "stream",
     "text": [
      "/home/p88101029/.local/lib/python3.6/site-packages/sklearn/metrics/_classification.py:1248: UndefinedMetricWarning: Precision is ill-defined and being set to 0.0 due to no predicted samples. Use `zero_division` parameter to control this behavior.\n",
      "  _warn_prf(average, modifier, msg_start, len(result))\n"
     ]
    },
    {
     "name": "stdout",
     "output_type": "stream",
     "text": [
      "Epoch: 215, Train Loss: 0.445, Val AUC: 0.959, Val PRE: 0.000\n"
     ]
    },
    {
     "name": "stderr",
     "output_type": "stream",
     "text": [
      "/home/p88101029/.local/lib/python3.6/site-packages/sklearn/metrics/_classification.py:1248: UndefinedMetricWarning: Precision is ill-defined and being set to 0.0 due to no predicted samples. Use `zero_division` parameter to control this behavior.\n",
      "  _warn_prf(average, modifier, msg_start, len(result))\n"
     ]
    },
    {
     "name": "stdout",
     "output_type": "stream",
     "text": [
      "Epoch: 220, Train Loss: 0.442, Val AUC: 0.959, Val PRE: 0.000\n"
     ]
    },
    {
     "name": "stderr",
     "output_type": "stream",
     "text": [
      "/home/p88101029/.local/lib/python3.6/site-packages/sklearn/metrics/_classification.py:1248: UndefinedMetricWarning: Precision is ill-defined and being set to 0.0 due to no predicted samples. Use `zero_division` parameter to control this behavior.\n",
      "  _warn_prf(average, modifier, msg_start, len(result))\n"
     ]
    },
    {
     "name": "stdout",
     "output_type": "stream",
     "text": [
      "Epoch: 225, Train Loss: 0.439, Val AUC: 0.959, Val PRE: 0.000\n"
     ]
    },
    {
     "name": "stderr",
     "output_type": "stream",
     "text": [
      "/home/p88101029/.local/lib/python3.6/site-packages/sklearn/metrics/_classification.py:1248: UndefinedMetricWarning: Precision is ill-defined and being set to 0.0 due to no predicted samples. Use `zero_division` parameter to control this behavior.\n",
      "  _warn_prf(average, modifier, msg_start, len(result))\n"
     ]
    },
    {
     "name": "stdout",
     "output_type": "stream",
     "text": [
      "Epoch: 230, Train Loss: 0.435, Val AUC: 0.960, Val PRE: 0.000\n",
      "Epoch: 235, Train Loss: 0.432, Val AUC: 0.960, Val PRE: 1.000\n",
      "Epoch: 240, Train Loss: 0.429, Val AUC: 0.960, Val PRE: 1.000\n",
      "Epoch: 245, Train Loss: 0.427, Val AUC: 0.960, Val PRE: 1.000\n",
      "Epoch: 250, Train Loss: 0.424, Val AUC: 0.960, Val PRE: 1.000\n",
      "Epoch: 255, Train Loss: 0.421, Val AUC: 0.960, Val PRE: 1.000\n",
      "Epoch: 260, Train Loss: 0.417, Val AUC: 0.959, Val PRE: 1.000\n",
      "Epoch: 265, Train Loss: 0.414, Val AUC: 0.959, Val PRE: 0.966\n",
      "Epoch: 270, Train Loss: 0.411, Val AUC: 0.958, Val PRE: 0.972\n",
      "Epoch: 275, Train Loss: 0.407, Val AUC: 0.958, Val PRE: 0.950\n",
      "Epoch: 280, Train Loss: 0.403, Val AUC: 0.958, Val PRE: 0.953\n",
      "Epoch: 285, Train Loss: 0.399, Val AUC: 0.958, Val PRE: 0.956\n",
      "Epoch: 290, Train Loss: 0.395, Val AUC: 0.957, Val PRE: 0.958\n",
      "Epoch: 295, Train Loss: 0.391, Val AUC: 0.956, Val PRE: 0.940\n",
      "Epoch: 300, Train Loss: 0.387, Val AUC: 0.956, Val PRE: 0.943\n",
      "Epoch: 305, Train Loss: 0.383, Val AUC: 0.955, Val PRE: 0.948\n",
      "Epoch: 310, Train Loss: 0.378, Val AUC: 0.955, Val PRE: 0.952\n",
      "Epoch: 315, Train Loss: 0.374, Val AUC: 0.954, Val PRE: 0.957\n",
      "Epoch: 320, Train Loss: 0.370, Val AUC: 0.953, Val PRE: 0.947\n",
      "Epoch: 325, Train Loss: 0.365, Val AUC: 0.953, Val PRE: 0.950\n",
      "Epoch: 330, Train Loss: 0.361, Val AUC: 0.952, Val PRE: 0.952\n",
      "Epoch: 335, Train Loss: 0.356, Val AUC: 0.952, Val PRE: 0.956\n",
      "Epoch: 340, Train Loss: 0.351, Val AUC: 0.951, Val PRE: 0.950\n",
      "Epoch: 345, Train Loss: 0.347, Val AUC: 0.950, Val PRE: 0.955\n"
     ]
    }
   ],
   "source": [
    "model = Net(attri.shape[1], int(128), int(64))\n",
    "optimizer = torch.optim.Adam(params=model.parameters(), lr=0.0001)\n",
    "criterion = torch.nn.BCEWithLogitsLoss()\n",
    "\n",
    "model, stop_loss = train_link_predictor(model, train_pos_g, train_neg_g, test_pos_g, test_neg_g, optimizer, criterion)"
   ]
  },
  {
   "cell_type": "code",
   "execution_count": 123,
   "metadata": {},
   "outputs": [],
   "source": [
    "def train_link_predictor( model, fullset, train, trainans, optimizer, criterion, stop_loss=0, n_epochs=1000):   \n",
    "    fullset.edge_index = to_undirected(fullset.edge_index)\n",
    "    train = torch.cat((train,torch.stack((train[1,:],train[0,:]))),dim=1)\n",
    "    trainans = torch.cat((trainans,trainans),dim=0)\n",
    "    best_loss = 1\n",
    "    counter = 0\n",
    "    for epoch in range(1, n_epochs + 1):\n",
    "\n",
    "        model.train()\n",
    "        optimizer.zero_grad()\n",
    "        z = model.encode(fullset.x, fullset.edge_index)\n",
    "        out = model.decode(z, train).view(-1)\n",
    "        loss = criterion(out, trainans)\n",
    "        loss.backward()\n",
    "        optimizer.step()\n",
    "\n",
    "        if epoch % 5 == 0:\n",
    "            print(f\"Epoch: {epoch:03d}, Train Loss: {loss:.3f}\")\n",
    "            if loss < best_loss and loss > 0.001:\n",
    "                counter = 0\n",
    "                best_loss = loss\n",
    "            else:\n",
    "                counter +=1\n",
    "            if counter == 20 or loss < stop_loss:\n",
    "                break\n",
    "    return model\n",
    "\n",
    "\n",
    "@torch.no_grad()\n",
    "def eval_link_predictor(model, fullset, test):\n",
    "    fullset.edge_index = to_undirected(fullset.edge_index)\n",
    "    model.eval()\n",
    "    z = model.encode(fullset.x, fullset.edge_index)\n",
    "    out = model.decode(z, test).view(-1).sigmoid()\n",
    "    return out"
   ]
  },
  {
   "cell_type": "code",
   "execution_count": 124,
   "metadata": {},
   "outputs": [
    {
     "name": "stdout",
     "output_type": "stream",
     "text": [
      "Epoch: 005, Train Loss: 0.693\n",
      "Epoch: 010, Train Loss: 0.693\n",
      "Epoch: 015, Train Loss: 0.692\n",
      "Epoch: 020, Train Loss: 0.692\n",
      "Epoch: 025, Train Loss: 0.691\n",
      "Epoch: 030, Train Loss: 0.690\n",
      "Epoch: 035, Train Loss: 0.689\n",
      "Epoch: 040, Train Loss: 0.688\n",
      "Epoch: 045, Train Loss: 0.687\n",
      "Epoch: 050, Train Loss: 0.686\n",
      "Epoch: 055, Train Loss: 0.684\n",
      "Epoch: 060, Train Loss: 0.682\n",
      "Epoch: 065, Train Loss: 0.679\n",
      "Epoch: 070, Train Loss: 0.676\n",
      "Epoch: 075, Train Loss: 0.672\n",
      "Epoch: 080, Train Loss: 0.668\n",
      "Epoch: 085, Train Loss: 0.662\n",
      "Epoch: 090, Train Loss: 0.656\n",
      "Epoch: 095, Train Loss: 0.648\n",
      "Epoch: 100, Train Loss: 0.640\n",
      "Epoch: 105, Train Loss: 0.630\n",
      "Epoch: 110, Train Loss: 0.618\n",
      "Epoch: 115, Train Loss: 0.606\n",
      "Epoch: 120, Train Loss: 0.592\n",
      "Epoch: 125, Train Loss: 0.578\n",
      "Epoch: 130, Train Loss: 0.564\n",
      "Epoch: 135, Train Loss: 0.551\n",
      "Epoch: 140, Train Loss: 0.537\n",
      "Epoch: 145, Train Loss: 0.526\n",
      "Epoch: 150, Train Loss: 0.515\n",
      "Epoch: 155, Train Loss: 0.505\n",
      "Epoch: 160, Train Loss: 0.497\n",
      "Epoch: 165, Train Loss: 0.489\n",
      "Epoch: 170, Train Loss: 0.483\n",
      "Epoch: 175, Train Loss: 0.477\n",
      "Epoch: 180, Train Loss: 0.471\n",
      "Epoch: 185, Train Loss: 0.466\n",
      "Epoch: 190, Train Loss: 0.462\n",
      "Epoch: 195, Train Loss: 0.458\n",
      "Epoch: 200, Train Loss: 0.454\n",
      "Epoch: 205, Train Loss: 0.451\n",
      "Epoch: 210, Train Loss: 0.447\n",
      "Epoch: 215, Train Loss: 0.444\n",
      "Epoch: 220, Train Loss: 0.441\n",
      "Epoch: 225, Train Loss: 0.438\n",
      "Epoch: 230, Train Loss: 0.436\n",
      "Epoch: 235, Train Loss: 0.433\n",
      "Epoch: 240, Train Loss: 0.431\n",
      "Epoch: 245, Train Loss: 0.428\n",
      "Epoch: 250, Train Loss: 0.426\n"
     ]
    }
   ],
   "source": [
    "model = Net(attri.shape[1], int(128), int(64))\n",
    "optimizer = torch.optim.Adam(params=model.parameters(), lr=0.0001)\n",
    "criterion = torch.nn.BCEWithLogitsLoss()\n",
    "\n",
    "model = train_link_predictor(model, fullset, train, trainans.to(dtype=torch.float), optimizer, criterion, stop_loss)"
   ]
  },
  {
   "cell_type": "code",
   "execution_count": 125,
   "metadata": {},
   "outputs": [],
   "source": [
    "testpred = eval_link_predictor(model, fullset, test)"
   ]
  },
  {
   "cell_type": "code",
   "execution_count": 126,
   "metadata": {},
   "outputs": [],
   "source": [
    "import pandas as pd\n",
    "\n",
    "ids = edgename\n",
    "prob = testpred\n",
    "upload = {'id': ids, 'prob': prob} \n",
    "\n",
    "path = 'upload1.csv'\n",
    "df = pd.DataFrame(upload)\n",
    "df.to_csv(path, index=False)"
   ]
  },
  {
   "cell_type": "code",
   "execution_count": null,
   "metadata": {},
   "outputs": [],
   "source": []
  }
 ],
 "metadata": {
  "kernelspec": {
   "display_name": "Python 3",
   "language": "python",
   "name": "python3"
  },
  "language_info": {
   "codemirror_mode": {
    "name": "ipython",
    "version": 3
   },
   "file_extension": ".py",
   "mimetype": "text/x-python",
   "name": "python",
   "nbconvert_exporter": "python",
   "pygments_lexer": "ipython3",
   "version": "3.6.9"
  }
 },
 "nbformat": 4,
 "nbformat_minor": 4
}
